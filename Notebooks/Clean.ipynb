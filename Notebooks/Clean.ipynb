{
 "cells": [
  {
   "cell_type": "code",
   "execution_count": 34,
   "metadata": {},
   "outputs": [],
   "source": [
    "import pandas as pd"
   ]
  },
  {
   "cell_type": "code",
   "execution_count": 35,
   "metadata": {},
   "outputs": [],
   "source": [
    "restaurants = pd.read_csv('../data/TA_restaurants.csv')"
   ]
  },
  {
   "cell_type": "code",
   "execution_count": 36,
   "metadata": {},
   "outputs": [
    {
     "name": "stdout",
     "output_type": "stream",
     "text": [
      "<class 'pandas.core.frame.DataFrame'>\n",
      "RangeIndex: 125527 entries, 0 to 125526\n",
      "Data columns (total 11 columns):\n",
      " #   Column             Non-Null Count   Dtype  \n",
      "---  ------             --------------   -----  \n",
      " 0   Unnamed: 0         125527 non-null  int64  \n",
      " 1   Name               125527 non-null  object \n",
      " 2   City               125527 non-null  object \n",
      " 3   Cuisine Style      94176 non-null   object \n",
      " 4   Ranking            115876 non-null  float64\n",
      " 5   Rating             115897 non-null  float64\n",
      " 6   Price Range        77672 non-null   object \n",
      " 7   Number of Reviews  108183 non-null  float64\n",
      " 8   Reviews            115911 non-null  object \n",
      " 9   URL_TA             125527 non-null  object \n",
      " 10  ID_TA              125527 non-null  object \n",
      "dtypes: float64(3), int64(1), object(7)\n",
      "memory usage: 10.5+ MB\n"
     ]
    }
   ],
   "source": [
    "restaurants.info()"
   ]
  },
  {
   "cell_type": "code",
   "execution_count": 37,
   "metadata": {},
   "outputs": [
    {
     "data": {
      "text/plain": [
       "(125527, 11)"
      ]
     },
     "execution_count": 37,
     "metadata": {},
     "output_type": "execute_result"
    }
   ],
   "source": [
    "restaurants.shape"
   ]
  },
  {
   "cell_type": "code",
   "execution_count": 38,
   "metadata": {
    "scrolled": true
   },
   "outputs": [
    {
     "data": {
      "text/html": [
       "<div>\n",
       "<style scoped>\n",
       "    .dataframe tbody tr th:only-of-type {\n",
       "        vertical-align: middle;\n",
       "    }\n",
       "\n",
       "    .dataframe tbody tr th {\n",
       "        vertical-align: top;\n",
       "    }\n",
       "\n",
       "    .dataframe thead th {\n",
       "        text-align: right;\n",
       "    }\n",
       "</style>\n",
       "<table border=\"1\" class=\"dataframe\">\n",
       "  <thead>\n",
       "    <tr style=\"text-align: right;\">\n",
       "      <th></th>\n",
       "      <th>Unnamed: 0</th>\n",
       "      <th>Name</th>\n",
       "      <th>City</th>\n",
       "      <th>Cuisine Style</th>\n",
       "      <th>Ranking</th>\n",
       "      <th>Rating</th>\n",
       "      <th>Price Range</th>\n",
       "      <th>Number of Reviews</th>\n",
       "      <th>Reviews</th>\n",
       "      <th>URL_TA</th>\n",
       "      <th>ID_TA</th>\n",
       "    </tr>\n",
       "  </thead>\n",
       "  <tbody>\n",
       "    <tr>\n",
       "      <th>0</th>\n",
       "      <td>0</td>\n",
       "      <td>Martine of Martine's Table</td>\n",
       "      <td>Amsterdam</td>\n",
       "      <td>['French', 'Dutch', 'European']</td>\n",
       "      <td>1.0</td>\n",
       "      <td>5.0</td>\n",
       "      <td>$$ - $$$</td>\n",
       "      <td>136.0</td>\n",
       "      <td>[['Just like home', 'A Warm Welcome to Wintry ...</td>\n",
       "      <td>/Restaurant_Review-g188590-d11752080-Reviews-M...</td>\n",
       "      <td>d11752080</td>\n",
       "    </tr>\n",
       "    <tr>\n",
       "      <th>1</th>\n",
       "      <td>1</td>\n",
       "      <td>De Silveren Spiegel</td>\n",
       "      <td>Amsterdam</td>\n",
       "      <td>['Dutch', 'European', 'Vegetarian Friendly', '...</td>\n",
       "      <td>2.0</td>\n",
       "      <td>4.5</td>\n",
       "      <td>$$$$</td>\n",
       "      <td>812.0</td>\n",
       "      <td>[['Great food and staff', 'just perfect'], ['0...</td>\n",
       "      <td>/Restaurant_Review-g188590-d693419-Reviews-De_...</td>\n",
       "      <td>d693419</td>\n",
       "    </tr>\n",
       "    <tr>\n",
       "      <th>2</th>\n",
       "      <td>2</td>\n",
       "      <td>La Rive</td>\n",
       "      <td>Amsterdam</td>\n",
       "      <td>['Mediterranean', 'French', 'International', '...</td>\n",
       "      <td>3.0</td>\n",
       "      <td>4.5</td>\n",
       "      <td>$$$$</td>\n",
       "      <td>567.0</td>\n",
       "      <td>[['Satisfaction', 'Delicious old school restau...</td>\n",
       "      <td>/Restaurant_Review-g188590-d696959-Reviews-La_...</td>\n",
       "      <td>d696959</td>\n",
       "    </tr>\n",
       "    <tr>\n",
       "      <th>3</th>\n",
       "      <td>3</td>\n",
       "      <td>Vinkeles</td>\n",
       "      <td>Amsterdam</td>\n",
       "      <td>['French', 'European', 'International', 'Conte...</td>\n",
       "      <td>4.0</td>\n",
       "      <td>5.0</td>\n",
       "      <td>$$$$</td>\n",
       "      <td>564.0</td>\n",
       "      <td>[['True five star dinner', 'A superb evening o...</td>\n",
       "      <td>/Restaurant_Review-g188590-d1239229-Reviews-Vi...</td>\n",
       "      <td>d1239229</td>\n",
       "    </tr>\n",
       "    <tr>\n",
       "      <th>4</th>\n",
       "      <td>4</td>\n",
       "      <td>Librije's Zusje Amsterdam</td>\n",
       "      <td>Amsterdam</td>\n",
       "      <td>['Dutch', 'European', 'International', 'Vegeta...</td>\n",
       "      <td>5.0</td>\n",
       "      <td>4.5</td>\n",
       "      <td>$$$$</td>\n",
       "      <td>316.0</td>\n",
       "      <td>[['Best meal.... EVER', 'super food experience...</td>\n",
       "      <td>/Restaurant_Review-g188590-d6864170-Reviews-Li...</td>\n",
       "      <td>d6864170</td>\n",
       "    </tr>\n",
       "  </tbody>\n",
       "</table>\n",
       "</div>"
      ],
      "text/plain": [
       "   Unnamed: 0                        Name       City  \\\n",
       "0           0  Martine of Martine's Table  Amsterdam   \n",
       "1           1         De Silveren Spiegel  Amsterdam   \n",
       "2           2                     La Rive  Amsterdam   \n",
       "3           3                    Vinkeles  Amsterdam   \n",
       "4           4   Librije's Zusje Amsterdam  Amsterdam   \n",
       "\n",
       "                                       Cuisine Style  Ranking  Rating  \\\n",
       "0                    ['French', 'Dutch', 'European']      1.0     5.0   \n",
       "1  ['Dutch', 'European', 'Vegetarian Friendly', '...      2.0     4.5   \n",
       "2  ['Mediterranean', 'French', 'International', '...      3.0     4.5   \n",
       "3  ['French', 'European', 'International', 'Conte...      4.0     5.0   \n",
       "4  ['Dutch', 'European', 'International', 'Vegeta...      5.0     4.5   \n",
       "\n",
       "  Price Range  Number of Reviews  \\\n",
       "0    $$ - $$$              136.0   \n",
       "1        $$$$              812.0   \n",
       "2        $$$$              567.0   \n",
       "3        $$$$              564.0   \n",
       "4        $$$$              316.0   \n",
       "\n",
       "                                             Reviews  \\\n",
       "0  [['Just like home', 'A Warm Welcome to Wintry ...   \n",
       "1  [['Great food and staff', 'just perfect'], ['0...   \n",
       "2  [['Satisfaction', 'Delicious old school restau...   \n",
       "3  [['True five star dinner', 'A superb evening o...   \n",
       "4  [['Best meal.... EVER', 'super food experience...   \n",
       "\n",
       "                                              URL_TA      ID_TA  \n",
       "0  /Restaurant_Review-g188590-d11752080-Reviews-M...  d11752080  \n",
       "1  /Restaurant_Review-g188590-d693419-Reviews-De_...    d693419  \n",
       "2  /Restaurant_Review-g188590-d696959-Reviews-La_...    d696959  \n",
       "3  /Restaurant_Review-g188590-d1239229-Reviews-Vi...   d1239229  \n",
       "4  /Restaurant_Review-g188590-d6864170-Reviews-Li...   d6864170  "
      ]
     },
     "execution_count": 38,
     "metadata": {},
     "output_type": "execute_result"
    }
   ],
   "source": [
    "restaurants.head()"
   ]
  },
  {
   "cell_type": "code",
   "execution_count": 39,
   "metadata": {},
   "outputs": [
    {
     "data": {
      "text/plain": [
       "array(['/Restaurant_Review-g188590-d11752080-Reviews-Martine_of_Martine_s_Table-Amsterdam_North_Holland_Province.html',\n",
       "       '/Restaurant_Review-g188590-d693419-Reviews-De_Silveren_Spiegel-Amsterdam_North_Holland_Province.html',\n",
       "       '/Restaurant_Review-g188590-d696959-Reviews-La_Rive-Amsterdam_North_Holland_Province.html',\n",
       "       ...,\n",
       "       '/Restaurant_Review-g188113-d13296092-Reviews-Restaurant_Bahnhof-Zurich.html',\n",
       "       '/Restaurant_Review-g188113-d13323362-Reviews-Yoyo_Pizza-Zurich.html',\n",
       "       '/Restaurant_Review-g188113-d13349842-Reviews-Dieci-Zurich.html'],\n",
       "      dtype=object)"
      ]
     },
     "execution_count": 39,
     "metadata": {},
     "output_type": "execute_result"
    }
   ],
   "source": [
    "restaurants.URL_TA.unique()"
   ]
  },
  {
   "cell_type": "code",
   "execution_count": 8,
   "metadata": {},
   "outputs": [
    {
     "data": {
      "text/plain": [
       "['Amsterdam',\n",
       " 'Athens',\n",
       " 'Barcelona',\n",
       " 'Berlin',\n",
       " 'Bratislava',\n",
       " 'Brussels',\n",
       " 'Budapest',\n",
       " 'Copenhagen',\n",
       " 'Dublin',\n",
       " 'Edinburgh',\n",
       " 'Geneva',\n",
       " 'Hamburg',\n",
       " 'Helsinki',\n",
       " 'Krakow',\n",
       " 'Lisbon',\n",
       " 'Ljubljana',\n",
       " 'London',\n",
       " 'Luxembourg',\n",
       " 'Lyon',\n",
       " 'Madrid',\n",
       " 'Milan',\n",
       " 'Munich',\n",
       " 'Oporto',\n",
       " 'Oslo',\n",
       " 'Paris',\n",
       " 'Prague',\n",
       " 'Rome',\n",
       " 'Stockholm',\n",
       " 'Vienna',\n",
       " 'Warsaw',\n",
       " 'Zurich']"
      ]
     },
     "execution_count": 8,
     "metadata": {},
     "output_type": "execute_result"
    }
   ],
   "source": [
    "list(restaurants.City.unique())"
   ]
  },
  {
   "cell_type": "code",
   "execution_count": 9,
   "metadata": {},
   "outputs": [],
   "source": [
    "restaurants.drop(['Number of Reviews', 'URL_TA', 'ID_TA'] ,axis=1, inplace=True)"
   ]
  },
  {
   "cell_type": "code",
   "execution_count": 10,
   "metadata": {},
   "outputs": [],
   "source": [
    "restaurants = restaurants.dropna()"
   ]
  },
  {
   "cell_type": "code",
   "execution_count": 11,
   "metadata": {},
   "outputs": [
    {
     "data": {
      "text/plain": [
       "\"[['Absolutely divine tastes and flavours', 'Loved it'], ['01/09/2018', '01/07/2018']]\""
      ]
     },
     "execution_count": 11,
     "metadata": {},
     "output_type": "execute_result"
    }
   ],
   "source": [
    "restaurants['Reviews'][67379]"
   ]
  },
  {
   "cell_type": "code",
   "execution_count": 12,
   "metadata": {},
   "outputs": [
    {
     "name": "stdout",
     "output_type": "stream",
     "text": [
      "True\n",
      "True\n",
      "False\n",
      "False\n",
      "True\n",
      "False\n",
      "False\n",
      "False\n",
      "False\n",
      "True\n",
      "False\n"
     ]
    }
   ],
   "source": [
    "for i in range(0, 11):\n",
    "    if 'Dutch' in restaurants['Cuisine Style'][i]:\n",
    "        print(True)\n",
    "    else:\n",
    "        print(False)"
   ]
  },
  {
   "cell_type": "code",
   "execution_count": 13,
   "metadata": {},
   "outputs": [
    {
     "name": "stdout",
     "output_type": "stream",
     "text": [
      "True\n"
     ]
    }
   ],
   "source": [
    "if 'Dutch' in restaurants['Cuisine Style'][0]:\n",
    "    print(True)"
   ]
  },
  {
   "cell_type": "code",
   "execution_count": 14,
   "metadata": {},
   "outputs": [
    {
     "data": {
      "text/plain": [
       "0                           ['French', 'Dutch', 'European']\n",
       "1         ['Dutch', 'European', 'Vegetarian Friendly', '...\n",
       "2         ['Mediterranean', 'French', 'International', '...\n",
       "3         ['French', 'European', 'International', 'Conte...\n",
       "4         ['Dutch', 'European', 'International', 'Vegeta...\n",
       "                                ...                        \n",
       "125438    ['Chinese', 'Swiss', 'Mediterranean', 'European']\n",
       "125444                  ['Italian', 'African', 'Ethiopian']\n",
       "125445                   ['Italian', 'Vegetarian Friendly']\n",
       "125450    ['International', 'European', 'Contemporary', ...\n",
       "125453    ['German', 'Belgian', 'Mediterranean', 'Europe...\n",
       "Name: Cuisine Style, Length: 75429, dtype: object"
      ]
     },
     "execution_count": 14,
     "metadata": {},
     "output_type": "execute_result"
    }
   ],
   "source": [
    "restaurants['Cuisine Style']"
   ]
  },
  {
   "cell_type": "code",
   "execution_count": 15,
   "metadata": {},
   "outputs": [
    {
     "data": {
      "text/plain": [
       "<bound method IndexOpsMixin.value_counts of 0                           ['French', 'Dutch', 'European']\n",
       "1         ['Dutch', 'European', 'Vegetarian Friendly', '...\n",
       "2         ['Mediterranean', 'French', 'International', '...\n",
       "3         ['French', 'European', 'International', 'Conte...\n",
       "4         ['Dutch', 'European', 'International', 'Vegeta...\n",
       "                                ...                        \n",
       "125438    ['Chinese', 'Swiss', 'Mediterranean', 'European']\n",
       "125444                  ['Italian', 'African', 'Ethiopian']\n",
       "125445                   ['Italian', 'Vegetarian Friendly']\n",
       "125450    ['International', 'European', 'Contemporary', ...\n",
       "125453    ['German', 'Belgian', 'Mediterranean', 'Europe...\n",
       "Name: Cuisine Style, Length: 75429, dtype: object>"
      ]
     },
     "execution_count": 15,
     "metadata": {},
     "output_type": "execute_result"
    }
   ],
   "source": [
    "restaurants['Cuisine Style'].value_counts"
   ]
  },
  {
   "cell_type": "code",
   "execution_count": 16,
   "metadata": {},
   "outputs": [
    {
     "data": {
      "text/plain": [
       "array(['$$ - $$$', '$$$$', '$'], dtype=object)"
      ]
     },
     "execution_count": 16,
     "metadata": {},
     "output_type": "execute_result"
    }
   ],
   "source": [
    "restaurants['Price Range'].unique()"
   ]
  },
  {
   "cell_type": "code",
   "execution_count": 17,
   "metadata": {},
   "outputs": [],
   "source": [
    "restaurants = restaurants.replace({'$$ - $$$': 'medium', '$': 'low', '$$$$': 'high'})"
   ]
  },
  {
   "cell_type": "code",
   "execution_count": 18,
   "metadata": {},
   "outputs": [
    {
     "data": {
      "text/html": [
       "<div>\n",
       "<style scoped>\n",
       "    .dataframe tbody tr th:only-of-type {\n",
       "        vertical-align: middle;\n",
       "    }\n",
       "\n",
       "    .dataframe tbody tr th {\n",
       "        vertical-align: top;\n",
       "    }\n",
       "\n",
       "    .dataframe thead th {\n",
       "        text-align: right;\n",
       "    }\n",
       "</style>\n",
       "<table border=\"1\" class=\"dataframe\">\n",
       "  <thead>\n",
       "    <tr style=\"text-align: right;\">\n",
       "      <th></th>\n",
       "      <th>Unnamed: 0</th>\n",
       "      <th>Name</th>\n",
       "      <th>City</th>\n",
       "      <th>Cuisine Style</th>\n",
       "      <th>Ranking</th>\n",
       "      <th>Rating</th>\n",
       "      <th>Price Range</th>\n",
       "      <th>Reviews</th>\n",
       "    </tr>\n",
       "  </thead>\n",
       "  <tbody>\n",
       "    <tr>\n",
       "      <th>3234</th>\n",
       "      <td>3234</td>\n",
       "      <td>EXKi</td>\n",
       "      <td>Amsterdam</td>\n",
       "      <td>['Fast Food', 'Soups', 'Vegetarian Friendly', ...</td>\n",
       "      <td>3245.0</td>\n",
       "      <td>1.0</td>\n",
       "      <td>low</td>\n",
       "      <td>[['3,30 for a \"pièce\" of brownie and mistake.....</td>\n",
       "    </tr>\n",
       "    <tr>\n",
       "      <th>13105</th>\n",
       "      <td>7733</td>\n",
       "      <td>Restaurant International 08002 Barcelona</td>\n",
       "      <td>Barcelona</td>\n",
       "      <td>['Asian', 'Chinese']</td>\n",
       "      <td>7735.0</td>\n",
       "      <td>1.0</td>\n",
       "      <td>medium</td>\n",
       "      <td>[['Probably the worst in Barcelona!', 'Food po...</td>\n",
       "    </tr>\n",
       "    <tr>\n",
       "      <th>13115</th>\n",
       "      <td>7743</td>\n",
       "      <td>Petipe</td>\n",
       "      <td>Barcelona</td>\n",
       "      <td>['Pizza']</td>\n",
       "      <td>7749.0</td>\n",
       "      <td>1.0</td>\n",
       "      <td>low</td>\n",
       "      <td>[[], []]</td>\n",
       "    </tr>\n",
       "    <tr>\n",
       "      <th>13119</th>\n",
       "      <td>7747</td>\n",
       "      <td>MasQMenos St Joan</td>\n",
       "      <td>Barcelona</td>\n",
       "      <td>['Spanish']</td>\n",
       "      <td>7753.0</td>\n",
       "      <td>1.0</td>\n",
       "      <td>medium</td>\n",
       "      <td>[[], []]</td>\n",
       "    </tr>\n",
       "    <tr>\n",
       "      <th>13124</th>\n",
       "      <td>7752</td>\n",
       "      <td>Menjador del centre</td>\n",
       "      <td>Barcelona</td>\n",
       "      <td>['Mediterranean']</td>\n",
       "      <td>7759.0</td>\n",
       "      <td>1.0</td>\n",
       "      <td>medium</td>\n",
       "      <td>[[], []]</td>\n",
       "    </tr>\n",
       "    <tr>\n",
       "      <th>...</th>\n",
       "      <td>...</td>\n",
       "      <td>...</td>\n",
       "      <td>...</td>\n",
       "      <td>...</td>\n",
       "      <td>...</td>\n",
       "      <td>...</td>\n",
       "      <td>...</td>\n",
       "      <td>...</td>\n",
       "    </tr>\n",
       "    <tr>\n",
       "      <th>123648</th>\n",
       "      <td>2140</td>\n",
       "      <td>INSPIRE Lounge</td>\n",
       "      <td>Warsaw</td>\n",
       "      <td>['International', 'Polish', 'European', 'Grill...</td>\n",
       "      <td>2149.0</td>\n",
       "      <td>1.0</td>\n",
       "      <td>medium</td>\n",
       "      <td>[[\"Nice food if you won't mind waiting 2.5 ho....</td>\n",
       "    </tr>\n",
       "    <tr>\n",
       "      <th>123649</th>\n",
       "      <td>2141</td>\n",
       "      <td>Grill Inn</td>\n",
       "      <td>Warsaw</td>\n",
       "      <td>['Lebanese', 'Mediterranean', 'Turkish']</td>\n",
       "      <td>2150.0</td>\n",
       "      <td>1.0</td>\n",
       "      <td>medium</td>\n",
       "      <td>[['Get with the times'], ['09/23/2017']]</td>\n",
       "    </tr>\n",
       "    <tr>\n",
       "      <th>123650</th>\n",
       "      <td>2142</td>\n",
       "      <td>Szafran - Afghan Restaurant</td>\n",
       "      <td>Warsaw</td>\n",
       "      <td>['Indian', 'Middle Eastern', 'Persian', 'Afgha...</td>\n",
       "      <td>2151.0</td>\n",
       "      <td>1.0</td>\n",
       "      <td>low</td>\n",
       "      <td>[[\"It's a normal kebab place\"], ['06/26/2016']]</td>\n",
       "    </tr>\n",
       "    <tr>\n",
       "      <th>125450</th>\n",
       "      <td>1590</td>\n",
       "      <td>not guilty Bellevue</td>\n",
       "      <td>Zurich</td>\n",
       "      <td>['International', 'European', 'Contemporary', ...</td>\n",
       "      <td>1596.0</td>\n",
       "      <td>1.0</td>\n",
       "      <td>medium</td>\n",
       "      <td>[[], []]</td>\n",
       "    </tr>\n",
       "    <tr>\n",
       "      <th>125453</th>\n",
       "      <td>1593</td>\n",
       "      <td>Hukka Restaurant &amp; Hookah Lounge</td>\n",
       "      <td>Zurich</td>\n",
       "      <td>['German', 'Belgian', 'Mediterranean', 'Europe...</td>\n",
       "      <td>1601.0</td>\n",
       "      <td>1.0</td>\n",
       "      <td>high</td>\n",
       "      <td>[[], []]</td>\n",
       "    </tr>\n",
       "  </tbody>\n",
       "</table>\n",
       "<p>94 rows × 8 columns</p>\n",
       "</div>"
      ],
      "text/plain": [
       "        Unnamed: 0                                      Name       City  \\\n",
       "3234          3234                                      EXKi  Amsterdam   \n",
       "13105         7733  Restaurant International 08002 Barcelona  Barcelona   \n",
       "13115         7743                                    Petipe  Barcelona   \n",
       "13119         7747                         MasQMenos St Joan  Barcelona   \n",
       "13124         7752                       Menjador del centre  Barcelona   \n",
       "...            ...                                       ...        ...   \n",
       "123648        2140                            INSPIRE Lounge     Warsaw   \n",
       "123649        2141                                 Grill Inn     Warsaw   \n",
       "123650        2142               Szafran - Afghan Restaurant     Warsaw   \n",
       "125450        1590                       not guilty Bellevue     Zurich   \n",
       "125453        1593          Hukka Restaurant & Hookah Lounge     Zurich   \n",
       "\n",
       "                                            Cuisine Style  Ranking  Rating  \\\n",
       "3234    ['Fast Food', 'Soups', 'Vegetarian Friendly', ...   3245.0     1.0   \n",
       "13105                                ['Asian', 'Chinese']   7735.0     1.0   \n",
       "13115                                           ['Pizza']   7749.0     1.0   \n",
       "13119                                         ['Spanish']   7753.0     1.0   \n",
       "13124                                   ['Mediterranean']   7759.0     1.0   \n",
       "...                                                   ...      ...     ...   \n",
       "123648  ['International', 'Polish', 'European', 'Grill...   2149.0     1.0   \n",
       "123649           ['Lebanese', 'Mediterranean', 'Turkish']   2150.0     1.0   \n",
       "123650  ['Indian', 'Middle Eastern', 'Persian', 'Afgha...   2151.0     1.0   \n",
       "125450  ['International', 'European', 'Contemporary', ...   1596.0     1.0   \n",
       "125453  ['German', 'Belgian', 'Mediterranean', 'Europe...   1601.0     1.0   \n",
       "\n",
       "       Price Range                                            Reviews  \n",
       "3234           low  [['3,30 for a \"pièce\" of brownie and mistake.....  \n",
       "13105       medium  [['Probably the worst in Barcelona!', 'Food po...  \n",
       "13115          low                                           [[], []]  \n",
       "13119       medium                                           [[], []]  \n",
       "13124       medium                                           [[], []]  \n",
       "...            ...                                                ...  \n",
       "123648      medium  [[\"Nice food if you won't mind waiting 2.5 ho....  \n",
       "123649      medium           [['Get with the times'], ['09/23/2017']]  \n",
       "123650         low    [[\"It's a normal kebab place\"], ['06/26/2016']]  \n",
       "125450      medium                                           [[], []]  \n",
       "125453        high                                           [[], []]  \n",
       "\n",
       "[94 rows x 8 columns]"
      ]
     },
     "execution_count": 18,
     "metadata": {},
     "output_type": "execute_result"
    }
   ],
   "source": [
    "restaurants[restaurants.Rating == 1.0]"
   ]
  },
  {
   "cell_type": "code",
   "execution_count": 19,
   "metadata": {},
   "outputs": [],
   "source": [
    "restaurants_london= restaurants[restaurants.City == 'London']"
   ]
  },
  {
   "cell_type": "code",
   "execution_count": 20,
   "metadata": {},
   "outputs": [
    {
     "data": {
      "text/html": [
       "<div>\n",
       "<style scoped>\n",
       "    .dataframe tbody tr th:only-of-type {\n",
       "        vertical-align: middle;\n",
       "    }\n",
       "\n",
       "    .dataframe tbody tr th {\n",
       "        vertical-align: top;\n",
       "    }\n",
       "\n",
       "    .dataframe thead th {\n",
       "        text-align: right;\n",
       "    }\n",
       "</style>\n",
       "<table border=\"1\" class=\"dataframe\">\n",
       "  <thead>\n",
       "    <tr style=\"text-align: right;\">\n",
       "      <th></th>\n",
       "      <th>Unnamed: 0</th>\n",
       "      <th>Name</th>\n",
       "      <th>City</th>\n",
       "      <th>Cuisine Style</th>\n",
       "      <th>Ranking</th>\n",
       "      <th>Rating</th>\n",
       "      <th>Price Range</th>\n",
       "      <th>Reviews</th>\n",
       "    </tr>\n",
       "  </thead>\n",
       "  <tbody>\n",
       "    <tr>\n",
       "      <th>45580</th>\n",
       "      <td>0</td>\n",
       "      <td>R &amp; H cafe gallery</td>\n",
       "      <td>London</td>\n",
       "      <td>['Cafe', 'Middle Eastern', 'Persian', 'Vegetar...</td>\n",
       "      <td>1.0</td>\n",
       "      <td>5.0</td>\n",
       "      <td>medium</td>\n",
       "      <td>[['Amazing cakes', 'Breakfatst'], ['01/08/2018...</td>\n",
       "    </tr>\n",
       "    <tr>\n",
       "      <th>45581</th>\n",
       "      <td>1</td>\n",
       "      <td>Osteria Romana</td>\n",
       "      <td>London</td>\n",
       "      <td>['Italian', 'Mediterranean', 'Vegetarian Frien...</td>\n",
       "      <td>2.0</td>\n",
       "      <td>5.0</td>\n",
       "      <td>high</td>\n",
       "      <td>[['Small restaurant with the touch of Italian....</td>\n",
       "    </tr>\n",
       "    <tr>\n",
       "      <th>45582</th>\n",
       "      <td>2</td>\n",
       "      <td>The Oystermen Seafood Bar &amp; Kitchen</td>\n",
       "      <td>London</td>\n",
       "      <td>['Seafood', 'British', 'Gluten Free Options']</td>\n",
       "      <td>3.0</td>\n",
       "      <td>5.0</td>\n",
       "      <td>medium</td>\n",
       "      <td>[['Fantasic!!', 'Superb Food, Warm and Welcomi...</td>\n",
       "    </tr>\n",
       "    <tr>\n",
       "      <th>45583</th>\n",
       "      <td>3</td>\n",
       "      <td>Liman Restaurant</td>\n",
       "      <td>London</td>\n",
       "      <td>['Mediterranean', 'European', 'Turkish', 'Midd...</td>\n",
       "      <td>4.0</td>\n",
       "      <td>5.0</td>\n",
       "      <td>medium</td>\n",
       "      <td>[['A good experience', 'Excellent Establishmen...</td>\n",
       "    </tr>\n",
       "    <tr>\n",
       "      <th>45584</th>\n",
       "      <td>4</td>\n",
       "      <td>Holy Smoke</td>\n",
       "      <td>London</td>\n",
       "      <td>['International', 'Vegetarian Friendly', 'Glut...</td>\n",
       "      <td>5.0</td>\n",
       "      <td>5.0</td>\n",
       "      <td>medium</td>\n",
       "      <td>[['Always consistently good food and service',...</td>\n",
       "    </tr>\n",
       "    <tr>\n",
       "      <th>...</th>\n",
       "      <td>...</td>\n",
       "      <td>...</td>\n",
       "      <td>...</td>\n",
       "      <td>...</td>\n",
       "      <td>...</td>\n",
       "      <td>...</td>\n",
       "      <td>...</td>\n",
       "      <td>...</td>\n",
       "    </tr>\n",
       "    <tr>\n",
       "      <th>61978</th>\n",
       "      <td>16398</td>\n",
       "      <td>Ital Pizza</td>\n",
       "      <td>London</td>\n",
       "      <td>['Pizza']</td>\n",
       "      <td>16417.0</td>\n",
       "      <td>1.0</td>\n",
       "      <td>medium</td>\n",
       "      <td>[['Just run away from this shop!!!'], ['12/19/...</td>\n",
       "    </tr>\n",
       "    <tr>\n",
       "      <th>61979</th>\n",
       "      <td>16399</td>\n",
       "      <td>Bombay Mix</td>\n",
       "      <td>London</td>\n",
       "      <td>['Indian']</td>\n",
       "      <td>16418.0</td>\n",
       "      <td>1.0</td>\n",
       "      <td>medium</td>\n",
       "      <td>[['Over and hour late and not worth the wait.'...</td>\n",
       "    </tr>\n",
       "    <tr>\n",
       "      <th>61986</th>\n",
       "      <td>16406</td>\n",
       "      <td>Tastys Peri Peri</td>\n",
       "      <td>London</td>\n",
       "      <td>['Pizza']</td>\n",
       "      <td>16427.0</td>\n",
       "      <td>1.0</td>\n",
       "      <td>medium</td>\n",
       "      <td>[['Disgusting'], ['09/29/2017']]</td>\n",
       "    </tr>\n",
       "    <tr>\n",
       "      <th>61996</th>\n",
       "      <td>16416</td>\n",
       "      <td>Cock Tavern</td>\n",
       "      <td>London</td>\n",
       "      <td>['French', 'Steakhouse', 'British']</td>\n",
       "      <td>16437.0</td>\n",
       "      <td>1.0</td>\n",
       "      <td>high</td>\n",
       "      <td>[[\"TV hype at it's worse! Hideous!\"], ['05/27/...</td>\n",
       "    </tr>\n",
       "    <tr>\n",
       "      <th>62001</th>\n",
       "      <td>16421</td>\n",
       "      <td>Le Peep Boutique</td>\n",
       "      <td>London</td>\n",
       "      <td>['French', 'Fusion']</td>\n",
       "      <td>16443.0</td>\n",
       "      <td>1.0</td>\n",
       "      <td>high</td>\n",
       "      <td>[['staff party', 'Aqua shard workers party'], ...</td>\n",
       "    </tr>\n",
       "  </tbody>\n",
       "</table>\n",
       "<p>11795 rows × 8 columns</p>\n",
       "</div>"
      ],
      "text/plain": [
       "       Unnamed: 0                                 Name    City  \\\n",
       "45580           0                   R & H cafe gallery  London   \n",
       "45581           1                       Osteria Romana  London   \n",
       "45582           2  The Oystermen Seafood Bar & Kitchen  London   \n",
       "45583           3                     Liman Restaurant  London   \n",
       "45584           4                           Holy Smoke  London   \n",
       "...           ...                                  ...     ...   \n",
       "61978       16398                           Ital Pizza  London   \n",
       "61979       16399                           Bombay Mix  London   \n",
       "61986       16406                     Tastys Peri Peri  London   \n",
       "61996       16416                          Cock Tavern  London   \n",
       "62001       16421                     Le Peep Boutique  London   \n",
       "\n",
       "                                           Cuisine Style  Ranking  Rating  \\\n",
       "45580  ['Cafe', 'Middle Eastern', 'Persian', 'Vegetar...      1.0     5.0   \n",
       "45581  ['Italian', 'Mediterranean', 'Vegetarian Frien...      2.0     5.0   \n",
       "45582      ['Seafood', 'British', 'Gluten Free Options']      3.0     5.0   \n",
       "45583  ['Mediterranean', 'European', 'Turkish', 'Midd...      4.0     5.0   \n",
       "45584  ['International', 'Vegetarian Friendly', 'Glut...      5.0     5.0   \n",
       "...                                                  ...      ...     ...   \n",
       "61978                                          ['Pizza']  16417.0     1.0   \n",
       "61979                                         ['Indian']  16418.0     1.0   \n",
       "61986                                          ['Pizza']  16427.0     1.0   \n",
       "61996                ['French', 'Steakhouse', 'British']  16437.0     1.0   \n",
       "62001                               ['French', 'Fusion']  16443.0     1.0   \n",
       "\n",
       "      Price Range                                            Reviews  \n",
       "45580      medium  [['Amazing cakes', 'Breakfatst'], ['01/08/2018...  \n",
       "45581        high  [['Small restaurant with the touch of Italian....  \n",
       "45582      medium  [['Fantasic!!', 'Superb Food, Warm and Welcomi...  \n",
       "45583      medium  [['A good experience', 'Excellent Establishmen...  \n",
       "45584      medium  [['Always consistently good food and service',...  \n",
       "...           ...                                                ...  \n",
       "61978      medium  [['Just run away from this shop!!!'], ['12/19/...  \n",
       "61979      medium  [['Over and hour late and not worth the wait.'...  \n",
       "61986      medium                   [['Disgusting'], ['09/29/2017']]  \n",
       "61996        high  [[\"TV hype at it's worse! Hideous!\"], ['05/27/...  \n",
       "62001        high  [['staff party', 'Aqua shard workers party'], ...  \n",
       "\n",
       "[11795 rows x 8 columns]"
      ]
     },
     "execution_count": 20,
     "metadata": {},
     "output_type": "execute_result"
    }
   ],
   "source": [
    "restaurants_london"
   ]
  },
  {
   "cell_type": "code",
   "execution_count": 21,
   "metadata": {},
   "outputs": [],
   "source": [
    "restaurants.drop(['Unnamed: 0'] ,axis=1, inplace=True)"
   ]
  },
  {
   "cell_type": "code",
   "execution_count": 22,
   "metadata": {},
   "outputs": [
    {
     "data": {
      "text/html": [
       "<div>\n",
       "<style scoped>\n",
       "    .dataframe tbody tr th:only-of-type {\n",
       "        vertical-align: middle;\n",
       "    }\n",
       "\n",
       "    .dataframe tbody tr th {\n",
       "        vertical-align: top;\n",
       "    }\n",
       "\n",
       "    .dataframe thead th {\n",
       "        text-align: right;\n",
       "    }\n",
       "</style>\n",
       "<table border=\"1\" class=\"dataframe\">\n",
       "  <thead>\n",
       "    <tr style=\"text-align: right;\">\n",
       "      <th></th>\n",
       "      <th>Name</th>\n",
       "      <th>City</th>\n",
       "      <th>Cuisine Style</th>\n",
       "      <th>Ranking</th>\n",
       "      <th>Rating</th>\n",
       "      <th>Price Range</th>\n",
       "      <th>Reviews</th>\n",
       "    </tr>\n",
       "  </thead>\n",
       "  <tbody>\n",
       "    <tr>\n",
       "      <th>0</th>\n",
       "      <td>Martine of Martine's Table</td>\n",
       "      <td>Amsterdam</td>\n",
       "      <td>['French', 'Dutch', 'European']</td>\n",
       "      <td>1.0</td>\n",
       "      <td>5.0</td>\n",
       "      <td>medium</td>\n",
       "      <td>[['Just like home', 'A Warm Welcome to Wintry ...</td>\n",
       "    </tr>\n",
       "    <tr>\n",
       "      <th>1</th>\n",
       "      <td>De Silveren Spiegel</td>\n",
       "      <td>Amsterdam</td>\n",
       "      <td>['Dutch', 'European', 'Vegetarian Friendly', '...</td>\n",
       "      <td>2.0</td>\n",
       "      <td>4.5</td>\n",
       "      <td>high</td>\n",
       "      <td>[['Great food and staff', 'just perfect'], ['0...</td>\n",
       "    </tr>\n",
       "    <tr>\n",
       "      <th>2</th>\n",
       "      <td>La Rive</td>\n",
       "      <td>Amsterdam</td>\n",
       "      <td>['Mediterranean', 'French', 'International', '...</td>\n",
       "      <td>3.0</td>\n",
       "      <td>4.5</td>\n",
       "      <td>high</td>\n",
       "      <td>[['Satisfaction', 'Delicious old school restau...</td>\n",
       "    </tr>\n",
       "    <tr>\n",
       "      <th>3</th>\n",
       "      <td>Vinkeles</td>\n",
       "      <td>Amsterdam</td>\n",
       "      <td>['French', 'European', 'International', 'Conte...</td>\n",
       "      <td>4.0</td>\n",
       "      <td>5.0</td>\n",
       "      <td>high</td>\n",
       "      <td>[['True five star dinner', 'A superb evening o...</td>\n",
       "    </tr>\n",
       "    <tr>\n",
       "      <th>4</th>\n",
       "      <td>Librije's Zusje Amsterdam</td>\n",
       "      <td>Amsterdam</td>\n",
       "      <td>['Dutch', 'European', 'International', 'Vegeta...</td>\n",
       "      <td>5.0</td>\n",
       "      <td>4.5</td>\n",
       "      <td>high</td>\n",
       "      <td>[['Best meal.... EVER', 'super food experience...</td>\n",
       "    </tr>\n",
       "    <tr>\n",
       "      <th>...</th>\n",
       "      <td>...</td>\n",
       "      <td>...</td>\n",
       "      <td>...</td>\n",
       "      <td>...</td>\n",
       "      <td>...</td>\n",
       "      <td>...</td>\n",
       "      <td>...</td>\n",
       "    </tr>\n",
       "    <tr>\n",
       "      <th>125438</th>\n",
       "      <td>Jade</td>\n",
       "      <td>Zurich</td>\n",
       "      <td>['Chinese', 'Swiss', 'Mediterranean', 'European']</td>\n",
       "      <td>1584.0</td>\n",
       "      <td>3.0</td>\n",
       "      <td>high</td>\n",
       "      <td>[['Horrible!', 'It was really horrible, I woul...</td>\n",
       "    </tr>\n",
       "    <tr>\n",
       "      <th>125444</th>\n",
       "      <td>Restaurant Moringa Teff</td>\n",
       "      <td>Zurich</td>\n",
       "      <td>['Italian', 'African', 'Ethiopian']</td>\n",
       "      <td>1590.0</td>\n",
       "      <td>5.0</td>\n",
       "      <td>medium</td>\n",
       "      <td>[[], []]</td>\n",
       "    </tr>\n",
       "    <tr>\n",
       "      <th>125445</th>\n",
       "      <td>Ristorante La Taverna</td>\n",
       "      <td>Zurich</td>\n",
       "      <td>['Italian', 'Vegetarian Friendly']</td>\n",
       "      <td>1591.0</td>\n",
       "      <td>4.5</td>\n",
       "      <td>medium</td>\n",
       "      <td>[['Super local eatery', 'Small and charming pl...</td>\n",
       "    </tr>\n",
       "    <tr>\n",
       "      <th>125450</th>\n",
       "      <td>not guilty Bellevue</td>\n",
       "      <td>Zurich</td>\n",
       "      <td>['International', 'European', 'Contemporary', ...</td>\n",
       "      <td>1596.0</td>\n",
       "      <td>1.0</td>\n",
       "      <td>medium</td>\n",
       "      <td>[[], []]</td>\n",
       "    </tr>\n",
       "    <tr>\n",
       "      <th>125453</th>\n",
       "      <td>Hukka Restaurant &amp; Hookah Lounge</td>\n",
       "      <td>Zurich</td>\n",
       "      <td>['German', 'Belgian', 'Mediterranean', 'Europe...</td>\n",
       "      <td>1601.0</td>\n",
       "      <td>1.0</td>\n",
       "      <td>high</td>\n",
       "      <td>[[], []]</td>\n",
       "    </tr>\n",
       "  </tbody>\n",
       "</table>\n",
       "<p>75429 rows × 7 columns</p>\n",
       "</div>"
      ],
      "text/plain": [
       "                                    Name       City  \\\n",
       "0             Martine of Martine's Table  Amsterdam   \n",
       "1                    De Silveren Spiegel  Amsterdam   \n",
       "2                                La Rive  Amsterdam   \n",
       "3                               Vinkeles  Amsterdam   \n",
       "4              Librije's Zusje Amsterdam  Amsterdam   \n",
       "...                                  ...        ...   \n",
       "125438                              Jade     Zurich   \n",
       "125444           Restaurant Moringa Teff     Zurich   \n",
       "125445             Ristorante La Taverna     Zurich   \n",
       "125450               not guilty Bellevue     Zurich   \n",
       "125453  Hukka Restaurant & Hookah Lounge     Zurich   \n",
       "\n",
       "                                            Cuisine Style  Ranking  Rating  \\\n",
       "0                         ['French', 'Dutch', 'European']      1.0     5.0   \n",
       "1       ['Dutch', 'European', 'Vegetarian Friendly', '...      2.0     4.5   \n",
       "2       ['Mediterranean', 'French', 'International', '...      3.0     4.5   \n",
       "3       ['French', 'European', 'International', 'Conte...      4.0     5.0   \n",
       "4       ['Dutch', 'European', 'International', 'Vegeta...      5.0     4.5   \n",
       "...                                                   ...      ...     ...   \n",
       "125438  ['Chinese', 'Swiss', 'Mediterranean', 'European']   1584.0     3.0   \n",
       "125444                ['Italian', 'African', 'Ethiopian']   1590.0     5.0   \n",
       "125445                 ['Italian', 'Vegetarian Friendly']   1591.0     4.5   \n",
       "125450  ['International', 'European', 'Contemporary', ...   1596.0     1.0   \n",
       "125453  ['German', 'Belgian', 'Mediterranean', 'Europe...   1601.0     1.0   \n",
       "\n",
       "       Price Range                                            Reviews  \n",
       "0           medium  [['Just like home', 'A Warm Welcome to Wintry ...  \n",
       "1             high  [['Great food and staff', 'just perfect'], ['0...  \n",
       "2             high  [['Satisfaction', 'Delicious old school restau...  \n",
       "3             high  [['True five star dinner', 'A superb evening o...  \n",
       "4             high  [['Best meal.... EVER', 'super food experience...  \n",
       "...            ...                                                ...  \n",
       "125438        high  [['Horrible!', 'It was really horrible, I woul...  \n",
       "125444      medium                                           [[], []]  \n",
       "125445      medium  [['Super local eatery', 'Small and charming pl...  \n",
       "125450      medium                                           [[], []]  \n",
       "125453        high                                           [[], []]  \n",
       "\n",
       "[75429 rows x 7 columns]"
      ]
     },
     "execution_count": 22,
     "metadata": {},
     "output_type": "execute_result"
    }
   ],
   "source": [
    "restaurants"
   ]
  },
  {
   "cell_type": "code",
   "execution_count": 23,
   "metadata": {},
   "outputs": [],
   "source": [
    "restaurants.to_csv('../data/df_restaurants.csv')"
   ]
  },
  {
   "cell_type": "code",
   "execution_count": null,
   "metadata": {},
   "outputs": [],
   "source": []
  },
  {
   "cell_type": "code",
   "execution_count": 24,
   "metadata": {},
   "outputs": [],
   "source": [
    "restaurants.to_json(\"../data/restaurants_json\", orient=\"records\")"
   ]
  },
  {
   "cell_type": "code",
   "execution_count": 25,
   "metadata": {},
   "outputs": [],
   "source": [
    "from pymongo import MongoClient"
   ]
  },
  {
   "cell_type": "code",
   "execution_count": 26,
   "metadata": {},
   "outputs": [],
   "source": [
    "conn = MongoClient(\"localhost:27017\")"
   ]
  },
  {
   "cell_type": "code",
   "execution_count": 27,
   "metadata": {},
   "outputs": [
    {
     "data": {
      "text/plain": [
       "['HP', 'RickAndMorty', 'admin', 'config', 'ironhack', 'local', 'project_final']"
      ]
     },
     "execution_count": 27,
     "metadata": {},
     "output_type": "execute_result"
    }
   ],
   "source": [
    "conn.list_database_names()"
   ]
  },
  {
   "cell_type": "code",
   "execution_count": 28,
   "metadata": {},
   "outputs": [],
   "source": [
    "db = conn.get_database(\"project_final\")"
   ]
  },
  {
   "cell_type": "code",
   "execution_count": 29,
   "metadata": {},
   "outputs": [
    {
     "data": {
      "text/plain": [
       "['restaurants']"
      ]
     },
     "execution_count": 29,
     "metadata": {},
     "output_type": "execute_result"
    }
   ],
   "source": [
    "db.list_collection_names()"
   ]
  },
  {
   "cell_type": "code",
   "execution_count": 30,
   "metadata": {},
   "outputs": [],
   "source": [
    "collection = db.get_collection(\"restaurants\")"
   ]
  },
  {
   "cell_type": "code",
   "execution_count": 31,
   "metadata": {},
   "outputs": [
    {
     "data": {
      "text/plain": [
       "{'_id': ObjectId('5fd29dce86cc4c64e0897909'),\n",
       " 'Name': 'Blue Pepper Restaurant And Candlelight Cruises',\n",
       " 'City': 'Amsterdam',\n",
       " 'Cuisine Style': \"['Asian', 'Indonesian', 'Vegetarian Friendly', 'Vegan Options', 'Gluten Free Options']\",\n",
       " 'Ranking': 8.0,\n",
       " 'Rating': 4.5,\n",
       " 'Price Range': 'high',\n",
       " 'Number of Reviews': 675.0,\n",
       " 'Reviews': \"[['Great Experience', 'A true delight'], ['01/08/2018', '01/07/2018']]\",\n",
       " 'URL_TA': '/Restaurant_Review-g188590-d697058-Reviews-Blue_Pepper_Restaurant_And_Candlelight_Cruises-Amsterdam_North_Holland_Province.html',\n",
       " 'ID_TA': 'd697058'}"
      ]
     },
     "execution_count": 31,
     "metadata": {},
     "output_type": "execute_result"
    }
   ],
   "source": [
    "collection.find_one()"
   ]
  },
  {
   "cell_type": "code",
   "execution_count": 32,
   "metadata": {},
   "outputs": [
    {
     "ename": "NameError",
     "evalue": "name 'restaurants_madrid' is not defined",
     "output_type": "error",
     "traceback": [
      "\u001b[0;31m---------------------------------------------------------------------------\u001b[0m",
      "\u001b[0;31mNameError\u001b[0m                                 Traceback (most recent call last)",
      "\u001b[0;32m<ipython-input-32-b2fb247fea9c>\u001b[0m in \u001b[0;36m<module>\u001b[0;34m\u001b[0m\n\u001b[0;32m----> 1\u001b[0;31m \u001b[0mrestaurants_madrid\u001b[0m\u001b[0;34m.\u001b[0m\u001b[0msample\u001b[0m\u001b[0;34m(\u001b[0m\u001b[0;36m20\u001b[0m\u001b[0;34m)\u001b[0m\u001b[0;34m\u001b[0m\u001b[0;34m\u001b[0m\u001b[0m\n\u001b[0m",
      "\u001b[0;31mNameError\u001b[0m: name 'restaurants_madrid' is not defined"
     ]
    }
   ],
   "source": [
    "restaurants_madrid.sample(20)"
   ]
  },
  {
   "cell_type": "code",
   "execution_count": 33,
   "metadata": {},
   "outputs": [],
   "source": [
    "coordenadas = pd.read_csv('../data/dataframefinal.csv')"
   ]
  },
  {
   "cell_type": "code",
   "execution_count": null,
   "metadata": {},
   "outputs": [],
   "source": []
  },
  {
   "cell_type": "code",
   "execution_count": null,
   "metadata": {},
   "outputs": [],
   "source": []
  },
  {
   "cell_type": "code",
   "execution_count": null,
   "metadata": {},
   "outputs": [],
   "source": []
  }
 ],
 "metadata": {
  "kernelspec": {
   "display_name": "Python 3",
   "language": "python",
   "name": "python3"
  },
  "language_info": {
   "codemirror_mode": {
    "name": "ipython",
    "version": 3
   },
   "file_extension": ".py",
   "mimetype": "text/x-python",
   "name": "python",
   "nbconvert_exporter": "python",
   "pygments_lexer": "ipython3",
   "version": "3.8.5"
  }
 },
 "nbformat": 4,
 "nbformat_minor": 4
}
